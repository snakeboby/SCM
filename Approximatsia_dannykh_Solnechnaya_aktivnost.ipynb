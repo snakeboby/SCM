{
 "cells": [
  {
   "cell_type": "markdown",
   "metadata": {},
   "source": [
    "# 30. Аппроксимация данных. Солнечная активность\n",
    "\n",
    "http://www.sidc.be/silso/datafiles\n",
    "\n",
    "Ниже представлены данные по солнечной активности (усредненные числа Вольфа) с 1900 по 2015 гг. Изобразить данные. Подобрать модель, аппроксимирующую их. Построить график полученной аппроксимирующей функции. Можно воспользоваться пребразованием Фурье, чтобы определить частоту колебаний в солнечной активности. На какой ближайший год придется следующий пик солнечной активности?\n",
    "\n",
    "Читать по строкам (1900...2015):\n",
    "  15.7 4.6 8.5 40.8 70.1 105.5 90.1 102.8 80.9\n",
    "  73.2 30.9 9.5 6.0 2.4 16.1 79.0 95.0 173.6 134.6\n",
    "  105.7 62.7 43.5 23.7 9.7 27.9 74.0 106.5 114.7\n",
    "  129.7 108.2 59.4 35.1 18.6 9.2 14.6 60.2 132.8\n",
    "  190.6 182.6 148.0 113.0 79.2 50.8 27.1 16.1 55.3\n",
    "  154.3 214.7 193.0 190.7 118.9 98.3 45.0 20.1 6.6\n",
    "  54.2 200.7 269.3 261.7 225.1 159.0 76.4 53.4\n",
    "  39.9 15.0 22.0 66.8 132.9 150.0 149.4 148.0 94.4\n",
    "  97.6 54.1 49.2 22.5 18.4 39.3 131.0 220.1 218.9\n",
    "  198.9 162.4 91.0 60.5 20.6 14.8 33.9 123.0 211.1\n",
    "  191.8 203.3 133.0 76.1 44.9 25.1 11.6 28.9 88.3\n",
    "  136.3 173.9 170.4 163.6 99.3 65.3 45.8 24.7 12.6\n",
    "  4.2 4.8 24.9 80.8 84.5 94.0 113.3 69.8"
   ]
  },
  {
   "cell_type": "markdown",
   "metadata": {},
   "source": [
    "### Аппроксимация опытных данных – \n",
    "это метод, основанный на замене экспериментально полученных данных аналитической функцией наиболее близко проходящей или совпадающей в узловых точках с исходными значениями (данными полученными в ходе опыта или эксперимента). "
   ]
  },
  {
   "cell_type": "markdown",
   "metadata": {},
   "source": [
    "### Солнечная активность — \n",
    "комплекс явлений и процессов, связанных с образованием и распадом в солнечной атмосфере сильных магнитных полей."
   ]
  },
  {
   "cell_type": "code",
   "execution_count": 11,
   "metadata": {},
   "outputs": [],
   "source": [
    "import matplotlib.pyplot as plt\n",
    "import numpy as np"
   ]
  },
  {
   "cell_type": "code",
   "execution_count": 12,
   "metadata": {},
   "outputs": [],
   "source": [
    "get_ipython().run_line_magic('matplotlib', 'inline')"
   ]
  },
  {
   "cell_type": "code",
   "execution_count": 13,
   "metadata": {},
   "outputs": [],
   "source": [
    "x = np.array([1900,1901,1902,1903,1904,1905,1906,1907,1908,\n",
    "              1909,1910,1911,1912,1913,1914,1915,1916,1917,1918,\n",
    "              1919,1920,1921,1922,1923,1924,1925,1926,1927,\n",
    "              1928,1929,1930,1931,1932,1933,1934,1935,1936,\n",
    "              1937,1938,1939,1940,1941,1942,1943,1944,1945,\n",
    "              1946,1947,1948,1949,1950,1951,1952,1953,1954,\n",
    "              1955,1956,1957,1958,1959,1960,1961,1962,\n",
    "              1963,1964,1965,1966,1967,1968,1969,1970,1971,\n",
    "              1972,1973,1974,1975,1976,1977,1978,1979,1980,\n",
    "              1981,1982,1983,1984,1985,1986,1987,1988,1989,\n",
    "              1990,1991,1992,1993,1994,1995,1996,1997,1998,\n",
    "              1999,2000,2001,2002,2003,2004,2005,2006,2007,\n",
    "              2008,2009,2010,2011,2012,2013,2014,2015])\n",
    "y = np.array([15.7,4.6, 8.5, 40.8, 70.1, 105.5, 90.1, 102.8, 80.9,\n",
    "              73.2, 30.9, 9.5, 6.0, 2.4, 16.1, 79.0, 95.0, 173.6, 134.6,\n",
    "              105.7, 62.7, 43.5, 23.7, 9.7, 27.9, 74.0, 106.5, 114.7,\n",
    "              129.7, 108.2, 59.4, 35.1, 18.6, 9.2, 14.6, 60.2, 132.8,\n",
    "              190.6, 182.6, 148.0, 113.0, 79.2, 50.8, 27.1, 16.1, 55.3,\n",
    "              154.3, 214.7, 193.0, 190.7, 118.9, 98.3, 45.0, 20.1, 6.6,\n",
    "              54.2, 200.7, 269.3, 261.7, 225.1, 159.0, 76.4, 53.4,\n",
    "              39.9, 15.0, 22.0, 66.8, 132.9, 150.0, 149.4, 148.0, 94.4,\n",
    "              97.6, 54.1, 49.2, 22.5, 18.4, 39.3, 131.0, 220.1, 218.9,\n",
    "              198.9, 162.4, 91.0, 60.5, 20.6, 14.8, 33.9, 123.0, 211.1,\n",
    "              191.8, 203.3, 133.0, 76.1, 44.9, 25.1, 11.6, 28.9, 88.3,\n",
    "              136.3, 173.9, 170.4, 163.6, 99.3, 65.3, 45.8, 24.7, 12.6,\n",
    "              4.2, 4.8, 24.9, 80.8, 84.5, 94.0, 113.3, 69.8])"
   ]
  },
  {
   "cell_type": "code",
   "execution_count": 14,
   "metadata": {},
   "outputs": [
    {
     "data": {
      "text/plain": [
       "(1899.0, 2016.0)"
      ]
     },
     "execution_count": 14,
     "metadata": {},
     "output_type": "execute_result"
    },
    {
     "data": {
      "image/png": "[encoded data removed]",
      "text/plain": [
       "<Figure size 432x288 with 1 Axes>"
      ]
     },
     "metadata": {
      "needs_background": "light"
     },
     "output_type": "display_data"
    }
   ],
   "source": [
    "#сравнил разные модели аппроксимации и выбрал квадратичную\n",
    "coefficients = np.polyfit(x, y, 2)\n",
    "poly = np.poly1d(coefficients)\n",
    "new_x = np.linspace(x[0], x[-1])\n",
    "new_y = poly(new_x)\n",
    "plt.plot(x, y, \"o\", new_x, new_y)\n",
    "plt.xlim([x[0]-1, x[-1] + 1 ])"
   ]
  },
  {
   "cell_type": "code",
   "execution_count": 15,
   "metadata": {},
   "outputs": [],
   "source": [
    "#определяем, убывает функция или нет\n",
    "asc = False\n",
    "if(y[len(y) - 2] < y[len(y) - 1]):\n",
    "    asc = True"
   ]
  },
  {
   "cell_type": "code",
   "execution_count": 16,
   "metadata": {},
   "outputs": [],
   "source": [
    "ii = len(x) - 1;\n",
    "#while для того, чтобы пройти этап возрастания функции\n",
    "while(asc):\n",
    "    if(y[ii-1] > y[ii]):\n",
    "        asc = False\n",
    "        ii = ii-1"
   ]
  },
  {
   "cell_type": "code",
   "execution_count": 17,
   "metadata": {},
   "outputs": [],
   "source": [
    "#теперь ищем пик\n",
    "res = 0\n",
    "for i in range(ii,0,-1):\n",
    "    if(y[i-1] < y[i]):\n",
    "        res = x[i]\n",
    "        break"
   ]
  },
  {
   "cell_type": "code",
   "execution_count": 18,
   "metadata": {},
   "outputs": [
    {
     "name": "stdout",
     "output_type": "stream",
     "text": [
      "Ближайший год: \n",
      "2025\n"
     ]
    }
   ],
   "source": [
    "#прибавляем к найденному пику 11 лет, тк цикл длится 11 лет\n",
    "print('Ближайший год: ');\n",
    "print(res + 11)"
   ]
  }
 ],
 "metadata": {
  "kernelspec": {
   "display_name": "Python 3",
   "language": "python",
   "name": "python3"
  },
  "language_info": {
   "codemirror_mode": {
    "name": "ipython",
    "version": 3
   },
   "file_extension": ".py",
   "mimetype": "text/x-python",
   "name": "python",
   "nbconvert_exporter": "python",
   "pygments_lexer": "ipython3",
   "version": "3.8.5"
  }
 },
 "nbformat": 4,
 "nbformat_minor": 4
}
